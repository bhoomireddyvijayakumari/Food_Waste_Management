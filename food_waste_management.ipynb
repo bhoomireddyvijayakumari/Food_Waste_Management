{
  "cells": [
    {
      "cell_type": "markdown",
      "metadata": {
        "id": "view-in-github",
        "colab_type": "text"
      },
      "source": [
        "<a href=\"https://colab.research.google.com/github/bhoomireddyvijayakumari/Food_Waste_Management/blob/main/food_waste_management.ipynb\" target=\"_parent\"><img src=\"https://colab.research.google.com/assets/colab-badge.svg\" alt=\"Open In Colab\"/></a>"
      ]
    },
    {
      "cell_type": "markdown",
      "metadata": {
        "id": "mjYiIDPOzlpq"
      },
      "source": [
        "# Project Title - Food Waste Management"
      ]
    },
    {
      "cell_type": "markdown",
      "metadata": {
        "id": "p6YIruAMxc4M"
      },
      "source": [
        "##### **Project Type**    - EDA/SQL/Streamlit\n",
        "##### **Contribution**    - Individual\n"
      ]
    },
    {
      "cell_type": "markdown",
      "metadata": {
        "id": "NvDl_91yxgMJ"
      },
      "source": [
        "# **Project Summary -**\n",
        "\n",
        "This project involved the comprehensive development of a full-stack Local Food Wastage Management System, executed methodically in a single Jupyter notebook. The process began with environment setup, mounting Google Drive for data access and installing and configuring a local MySQL server, including setting up authentication and creating the dedicated foodwaste_db database. The core of the project was the database schema design, where four relational tables (providers, receivers, food_listings, and claims) were meticulously defined with appropriate primary keys, foreign key constraints, and ENUM types for status fields to ensure data integrity and model real-world relationships between donors, food items, and recipients.\n",
        "\n",
        "Following the schema creation, the data ingestion phase loaded sample data from four provided CSV files. Robust Python functions were written to read, normalize column names, and handle type conversions—especially for dates—before inserting the records into their respective MySQL tables with upsert logic to avoid duplicates. With the database populated, the project advanced to data analysis, executing 15 predefined SQL queries to generate business intelligence. These queries extracted valuable insights on geographic distribution of providers/receivers, top contributing entities, claim status percentages, expiry trends, and supply-demand gaps across cities. The results of these analyses were automatically exported as a set of CSV reports for further review.\n",
        "\n",
        "The final and most significant phase was the development of a Streamlit web application. A complete app.py file was written in-line, creating a multi-tab, interactive interface. The application features a public-facing tab for browsing and filtering available food donations with integrated contact links (email, phone, WhatsApp), a secure administrative tab for full CRUD (Create, Read, Update, Delete) operations on all database entities, a dedicated analytics tab displaying the results of all 15 SQL queries, and an insights tab featuring Plotly charts visualizing top providers, high-demand locations, and wastage trends. The notebook concluded by attempting to deploy the application using ngrok to create a public URL, making the locally hosted Streamlit app accessible over the internet, thereby demonstrating a fully functional, end-to-end solution that connects food donors with recipients to effectively reduce waste."
      ]
    },
    {
      "cell_type": "markdown",
      "metadata": {
        "id": "znyqOpKQxn2o"
      },
      "source": [
        "# **GitHub Link -**. https://github.com/bhoomireddyvijayakumari/Food_Waste_Management.git"
      ]
    },
    {
      "cell_type": "markdown",
      "metadata": {
        "id": "JBq1yb7vxt4P"
      },
      "source": [
        "# **Problem Statement**\n"
      ]
    },
    {
      "cell_type": "markdown",
      "metadata": {
        "id": "3-gDlLtvyNdE"
      },
      "source": [
        "Food wastage is a significant issue, with many households and restaurants discarding surplus food while numerous people struggle with food insecurity.\n",
        "\n",
        "\n",
        "This project aims to develop a Local Food Wastage Management System, where:\n",
        "Restaurants and individuals can list surplus food.\n",
        "\n",
        "- NGOs or individuals in need can claim the food.\n",
        "- SQL stores available food details and locations.\n",
        "- A Streamlit app enables interaction, filtering, CRUD operation and visualization.\n"
      ]
    },
    {
      "cell_type": "markdown",
      "metadata": {
        "id": "t9TzcVu2x7tL"
      },
      "source": [
        "# ***Let's Begin !***"
      ]
    },
    {
      "cell_type": "markdown",
      "metadata": {
        "id": "-2DsnhlryBHg"
      },
      "source": [
        "## ***1. Know Your Data***"
      ]
    },
    {
      "cell_type": "code",
      "execution_count": 1,
      "metadata": {
        "colab": {
          "base_uri": "https://localhost:8080/"
        },
        "id": "aCUqlQjZz8xz",
        "outputId": "c209ca41-7aad-4451-ae64-00f040df5c18"
      },
      "outputs": [
        {
          "output_type": "stream",
          "name": "stdout",
          "text": [
            "Drive already mounted at /content/drive; to attempt to forcibly remount, call drive.mount(\"/content/drive\", force_remount=True).\n"
          ]
        }
      ],
      "source": [
        "from google.colab import drive\n",
        "drive.mount('/content/drive')"
      ]
    },
    {
      "cell_type": "markdown",
      "metadata": {
        "id": "hMv769qpyC7s"
      },
      "source": [
        "### Import Libraries"
      ]
    },
    {
      "cell_type": "code",
      "execution_count": 2,
      "metadata": {
        "id": "JoLwqdpC4VuK"
      },
      "outputs": [],
      "source": [
        "import streamlit as st\n",
        "import pandas as pd\n",
        "import mysql.connector\n",
        "import mysql.connector as mysql\n",
        "from mysql.connector import Error\n",
        "import plotly.express as px\n",
        "import plotly.graph_objects as go\n",
        "from datetime import datetime, date\n",
        "import os, subprocess, textwrap, json, sys, getpass, re\n",
        "from dateutil import parser as dateparser\n",
        "\n",
        "import warnings\n",
        "warnings.filterwarnings('ignore')"
      ]
    },
    {
      "cell_type": "code",
      "execution_count": 3,
      "metadata": {
        "id": "jorMHhTtswPv"
      },
      "outputs": [],
      "source": [
        "import pandas as pd\n",
        "providers_csv = \"/content/drive/My Drive/Colab Notebooks/FWM/providers_data.csv\"\n",
        "receivers_csv = \"/content/drive/My Drive/Colab Notebooks/FWM/receivers_data.csv\"\n",
        "food_listings_csv = \"/content/drive/My Drive/Colab Notebooks/FWM/food_listings_data.csv\"\n",
        "claims_csv = \"/content/drive/My Drive/Colab Notebooks/FWM/claims_data.csv\""
      ]
    },
    {
      "cell_type": "code",
      "execution_count": 4,
      "metadata": {
        "colab": {
          "base_uri": "https://localhost:8080/"
        },
        "id": "RtSWa1dI63v6",
        "outputId": "eff5964d-2aba-4d12-d026-d13d92c9bab8"
      },
      "outputs": [
        {
          "output_type": "stream",
          "name": "stdout",
          "text": [
            "Hit:1 https://cli.github.com/packages stable InRelease\n",
            "Hit:2 https://cloud.r-project.org/bin/linux/ubuntu jammy-cran40/ InRelease\n",
            "Hit:3 https://developer.download.nvidia.com/compute/cuda/repos/ubuntu2204/x86_64  InRelease\n",
            "Hit:4 http://security.ubuntu.com/ubuntu jammy-security InRelease\n",
            "Hit:5 https://r2u.stat.illinois.edu/ubuntu jammy InRelease\n",
            "Hit:6 http://archive.ubuntu.com/ubuntu jammy InRelease\n",
            "Hit:7 http://archive.ubuntu.com/ubuntu jammy-updates InRelease\n",
            "Hit:8 https://ppa.launchpadcontent.net/deadsnakes/ppa/ubuntu jammy InRelease\n",
            "Hit:9 http://archive.ubuntu.com/ubuntu jammy-backports InRelease\n",
            "Hit:10 https://ppa.launchpadcontent.net/graphics-drivers/ppa/ubuntu jammy InRelease\n",
            "Hit:11 https://ppa.launchpadcontent.net/ubuntugis/ppa/ubuntu jammy InRelease\n",
            "Reading package lists...\n",
            "W: Skipping acquire of configured file 'main/source/Sources' as repository 'https://r2u.stat.illinois.edu/ubuntu jammy InRelease' does not seem to provide it (sources.list entry misspelt?)\n",
            "Reading package lists... Done\n",
            "Building dependency tree... Done\n",
            "Reading state information... Done\n",
            "mysql-server is already the newest version (8.0.43-0ubuntu0.22.04.1).\n",
            "0 upgraded, 0 newly installed, 0 to remove and 75 not upgraded.\n"
          ]
        }
      ],
      "source": [
        "#Connecting to mysql server on colab\n",
        "\n",
        "!apt-get update -q\n",
        "!apt-get install -y mysql-server\n"
      ]
    },
    {
      "cell_type": "code",
      "execution_count": 5,
      "metadata": {
        "colab": {
          "base_uri": "https://localhost:8080/"
        },
        "id": "DveP5GAf4ca6",
        "outputId": "e237f968-0164-4083-d424-ea39bcb293f3"
      },
      "outputs": [
        {
          "output_type": "stream",
          "name": "stdout",
          "text": [
            " * Starting MySQL database server mysqld\n",
            "   ...done.\n"
          ]
        }
      ],
      "source": [
        "!service mysql start\n"
      ]
    },
    {
      "cell_type": "code",
      "execution_count": 6,
      "metadata": {
        "colab": {
          "base_uri": "https://localhost:8080/"
        },
        "id": "-sxLDlSC7xN7",
        "outputId": "bc69c458-7b5c-4f9a-ac7b-62b9ee0b435f"
      },
      "outputs": [
        {
          "output_type": "stream",
          "name": "stdout",
          "text": [
            "ERROR 1045 (28000): Access denied for user 'root'@'localhost' (using password: NO)\n",
            "mysql: [Warning] Using a password on the command line interface can be insecure.\n"
          ]
        }
      ],
      "source": [
        "!mysql -e \"ALTER USER 'root'@'localhost' IDENTIFIED WITH mysql_native_password BY 'root'; FLUSH PRIVILEGES;\"\n",
        "!mysql -uroot -proot -e \"CREATE DATABASE IF NOT EXISTS foodwaste_db;\"\n"
      ]
    },
    {
      "cell_type": "code",
      "execution_count": 7,
      "metadata": {
        "colab": {
          "base_uri": "https://localhost:8080/"
        },
        "id": "JOWPC2_REm7u",
        "outputId": "573123c4-9873-4c6d-c030-f60a4441dd3f"
      },
      "outputs": [
        {
          "output_type": "stream",
          "name": "stdout",
          "text": [
            "Connected to: foodwaste_db\n"
          ]
        }
      ],
      "source": [
        "#Test Python connection to MySQL\n",
        "\n",
        "DB_CONFIG = dict(\n",
        "    host=\"127.0.0.1\",\n",
        "    user=\"root\",\n",
        "    password=\"root\",\n",
        "    database=\"foodwaste_db\",\n",
        "    auth_plugin=\"mysql_native_password\"\n",
        ")\n",
        "\n",
        "con = mysql.connect(**DB_CONFIG)\n",
        "cur = con.cursor()\n",
        "cur.execute(\"SELECT DATABASE();\")\n",
        "print(\"Connected to:\", cur.fetchone()[0])\n",
        "cur.close()\n",
        "con.close()\n"
      ]
    },
    {
      "cell_type": "markdown",
      "metadata": {
        "id": "RHZ1v6B8JovF"
      },
      "source": [
        "#Create tables (Schema)"
      ]
    },
    {
      "cell_type": "code",
      "execution_count": 8,
      "metadata": {
        "colab": {
          "base_uri": "https://localhost:8080/"
        },
        "id": "XFtteisEI_TM",
        "outputId": "7d3aefea-33ff-4fec-efe6-7743a1a2e4f2"
      },
      "outputs": [
        {
          "output_type": "stream",
          "name": "stdout",
          "text": [
            "Schema created ✅\n"
          ]
        }
      ],
      "source": [
        "schema_sql = \"\"\"\n",
        "DROP TABLE IF EXISTS claims;\n",
        "DROP TABLE IF EXISTS food_listings;\n",
        "DROP TABLE IF EXISTS receivers;\n",
        "DROP TABLE IF EXISTS providers;\n",
        "\n",
        "CREATE TABLE providers (\n",
        "  provider_id   INT PRIMARY KEY,\n",
        "  name          VARCHAR(255) NOT NULL,\n",
        "  type          VARCHAR(100) NOT NULL,\n",
        "  address       VARCHAR(255),\n",
        "  city          VARCHAR(100),\n",
        "  contact       VARCHAR(100)\n",
        ");\n",
        "\n",
        "CREATE TABLE receivers (\n",
        "  receiver_id   INT PRIMARY KEY,\n",
        "  name          VARCHAR(255) NOT NULL,\n",
        "  type          VARCHAR(100) NOT NULL,\n",
        "  city          VARCHAR(100),\n",
        "  contact       VARCHAR(100)\n",
        ");\n",
        "\n",
        "CREATE TABLE food_listings (\n",
        "  food_id       INT PRIMARY KEY,\n",
        "  food_name     VARCHAR(255) NOT NULL,\n",
        "  quantity      INT NOT NULL,\n",
        "  expiry_date   DATE NOT NULL,\n",
        "  provider_id   INT NOT NULL,\n",
        "  provider_type VARCHAR(100),\n",
        "  location      VARCHAR(100),\n",
        "  food_type     VARCHAR(50),\n",
        "  meal_type     VARCHAR(50),\n",
        "  status        ENUM('Available','Reserved','Claimed','Expired') DEFAULT 'Available',\n",
        "  FOREIGN KEY (provider_id) REFERENCES providers(provider_id)\n",
        "    ON UPDATE CASCADE ON DELETE RESTRICT\n",
        ");\n",
        "\n",
        "CREATE TABLE claims (\n",
        "  claim_id    INT PRIMARY KEY,\n",
        "  food_id     INT NOT NULL,\n",
        "  receiver_id INT NOT NULL,\n",
        "  status      ENUM('Pending','Completed','Cancelled') NOT NULL,\n",
        "  timestamp   DATETIME NOT NULL,\n",
        "  FOREIGN KEY (food_id) REFERENCES food_listings(food_id)\n",
        "    ON UPDATE CASCADE ON DELETE RESTRICT,\n",
        "  FOREIGN KEY (receiver_id) REFERENCES receivers(receiver_id)\n",
        "    ON UPDATE CASCADE ON DELETE RESTRICT\n",
        ");\n",
        "\"\"\"\n",
        "\n",
        "con = mysql.connect(**DB_CONFIG)\n",
        "cur = con.cursor()\n",
        "for stmt in schema_sql.split(\";\"):\n",
        "    if stmt.strip():\n",
        "        cur.execute(stmt)\n",
        "con.commit()\n",
        "cur.close()\n",
        "con.close()\n",
        "print(\"Schema created ✅\")\n"
      ]
    },
    {
      "cell_type": "markdown",
      "metadata": {
        "id": "5QRoeA6RJkm_"
      },
      "source": [
        "#Load CSVs into MySQL"
      ]
    },
    {
      "cell_type": "code",
      "execution_count": 9,
      "metadata": {
        "colab": {
          "base_uri": "https://localhost:8080/"
        },
        "id": "1Re9-S8NJdtu",
        "outputId": "0ff82f28-58d1-4ee4-ae30-44314d73a7fb"
      },
      "outputs": [
        {
          "output_type": "stream",
          "name": "stdout",
          "text": [
            "CSV data loaded ✅\n"
          ]
        }
      ],
      "source": [
        "def connect_db():\n",
        "    return mysql.connect(**DB_CONFIG)\n",
        "\n",
        "def normalize_columns(df):\n",
        "    df.columns = [c.strip().lower().replace(\" \", \"_\") for c in df.columns]\n",
        "    return df\n",
        "\n",
        "def coerce_date(val):\n",
        "    if pd.isna(val): return None\n",
        "    try: return pd.to_datetime(val).date()\n",
        "    except: return dateparser.parse(str(val)).date()\n",
        "\n",
        "\n",
        "def load_providers():\n",
        "    df = normalize_columns(pd.read_csv(providers_csv))\n",
        "    con = connect_db(); cur = con.cursor()\n",
        "    for _, r in df.iterrows():\n",
        "        cur.execute(\"\"\"\n",
        "        INSERT INTO providers(provider_id,name,type,address,city,contact)\n",
        "        VALUES(%s,%s,%s,%s,%s,%s)\n",
        "        ON DUPLICATE KEY UPDATE name=VALUES(name), type=VALUES(type),\n",
        "                                address=VALUES(address), city=VALUES(city), contact=VALUES(contact)\n",
        "        \"\"\", (int(r['provider_id']), str(r['name']), str(r['type']),\n",
        "              str(r.get('address','')), str(r.get('city','')), str(r.get('contact',''))))\n",
        "    con.commit(); cur.close(); con.close()\n",
        "\n",
        "def load_receivers():\n",
        "    df = normalize_columns(pd.read_csv(receivers_csv))\n",
        "    con = connect_db(); cur = con.cursor()\n",
        "    for _, r in df.iterrows():\n",
        "        cur.execute(\"\"\"\n",
        "        INSERT INTO receivers(receiver_id,name,type,city,contact)\n",
        "        VALUES(%s,%s,%s,%s,%s)\n",
        "        ON DUPLICATE KEY UPDATE name=VALUES(name), type=VALUES(type),\n",
        "                                city=VALUES(city), contact=VALUES(contact)\n",
        "        \"\"\", (int(r['receiver_id']), str(r['name']), str(r['type']),\n",
        "              str(r.get('city','')), str(r.get('contact',''))))\n",
        "    con.commit(); cur.close(); con.close()\n",
        "\n",
        "def load_food_listings():\n",
        "    df = normalize_columns(pd.read_csv(food_listings_csv))\n",
        "    con = connect_db(); cur = con.cursor()\n",
        "    for _, r in df.iterrows():\n",
        "        cur.execute(\"\"\"\n",
        "        INSERT INTO food_listings\n",
        "         (food_id, food_name, quantity, expiry_date, provider_id, provider_type, location, food_type, meal_type, status)\n",
        "        VALUES(%s,%s,%s,%s,%s,%s,%s,%s,%s, COALESCE(%s,'Available'))\n",
        "        ON DUPLICATE KEY UPDATE food_name=VALUES(food_name), quantity=VALUES(quantity),\n",
        "            expiry_date=VALUES(expiry_date), provider_id=VALUES(provider_id),\n",
        "            provider_type=VALUES(provider_type), location=VALUES(location),\n",
        "            food_type=VALUES(food_type), meal_type=VALUES(meal_type), status=VALUES(status)\n",
        "        \"\"\", (\n",
        "            int(r['food_id']), str(r['food_name']), int(r['quantity']),\n",
        "            coerce_date(r['expiry_date']), int(r['provider_id']),\n",
        "            str(r.get('provider_type','')), str(r.get('location','')),\n",
        "            str(r.get('food_type','')), str(r.get('meal_type','')), str(r.get('status','Available'))\n",
        "        ))\n",
        "    con.commit(); cur.close(); con.close()\n",
        "\n",
        "def load_claims():\n",
        "    df = normalize_columns(pd.read_csv(claims_csv))\n",
        "    con = connect_db(); cur = con.cursor()\n",
        "    for _, r in df.iterrows():\n",
        "        ts = pd.to_datetime(r['timestamp']).to_pydatetime()  # ✅ fix\n",
        "        cur.execute(\"\"\"\n",
        "        INSERT INTO claims(claim_id,food_id,receiver_id,status,timestamp)\n",
        "        VALUES(%s,%s,%s,%s,%s)\n",
        "        ON DUPLICATE KEY UPDATE food_id=VALUES(food_id), receiver_id=VALUES(receiver_id),\n",
        "                                status=VALUES(status), timestamp=VALUES(timestamp)\n",
        "        \"\"\", (int(r['claim_id']), int(r['food_id']), int(r['receiver_id']),\n",
        "              str(r['status']), ts))\n",
        "    con.commit(); cur.close(); con.close()\n",
        "\n",
        "\n",
        "\n",
        "load_providers()\n",
        "load_receivers()\n",
        "load_food_listings()\n",
        "load_claims()\n",
        "print(\"CSV data loaded ✅\")"
      ]
    },
    {
      "cell_type": "markdown",
      "source": [
        "#SQL Analysis"
      ],
      "metadata": {
        "id": "bLon8EVnL-fi"
      }
    },
    {
      "cell_type": "code",
      "source": [
        "import os\n",
        "import pandas as pd\n",
        "import mysql.connector as mysql\n",
        "\n",
        "os.makedirs(\"/mnt/data/reports\", exist_ok=True)\n",
        "\n",
        "def sql_df(q):\n",
        "    con = mysql.connect(**DB_CONFIG)\n",
        "    df = pd.read_sql(q, con)\n",
        "    con.close()\n",
        "    return df\n",
        "\n",
        "reports = {\n",
        "    # Categories\n",
        "    \"wastage_by_food_type.csv\": \"\"\"\n",
        "        SELECT food_type,\n",
        "               SUM(CASE WHEN status='Expired' THEN 1 ELSE 0 END) AS expired_items,\n",
        "               SUM(CASE WHEN status='Available' THEN 1 ELSE 0 END) AS still_unclaimed,\n",
        "               COUNT(*) AS total_items\n",
        "        FROM food_listings\n",
        "        GROUP BY food_type\n",
        "        ORDER BY expired_items DESC, total_items DESC;\n",
        "    \"\"\",\n",
        "    # Locations\n",
        "    \"wastage_by_city.csv\": \"\"\"\n",
        "        SELECT location AS city,\n",
        "               SUM(CASE WHEN status='Expired' THEN 1 ELSE 0 END) AS expired_items,\n",
        "               SUM(CASE WHEN status='Available' THEN 1 ELSE 0 END) AS still_unclaimed,\n",
        "               COUNT(*) AS total_items\n",
        "        FROM food_listings\n",
        "        GROUP BY location\n",
        "        ORDER BY expired_items DESC, total_items DESC;\n",
        "    \"\"\",\n",
        "    # Expiry window (next 7 days)\n",
        "    \"soon_to_expire_7_days.csv\": \"\"\"\n",
        "        SELECT food_id, food_name, quantity, expiry_date, location, status\n",
        "        FROM food_listings\n",
        "        WHERE expiry_date BETWEEN CURDATE() AND DATE_ADD(CURDATE(), INTERVAL 7 DAY)\n",
        "        ORDER BY expiry_date ASC;\n",
        "    \"\"\",\n",
        "    # Demand vs Supply by city (claims vs available)\n",
        "    \"city_supply_demand.csv\": \"\"\"\n",
        "        SELECT city,\n",
        "               COALESCE(available,0) AS available_listings,\n",
        "               COALESCE(claims,0) AS total_claims\n",
        "        FROM\n",
        "        (SELECT location AS city, COUNT(*) AS available\n",
        "         FROM food_listings WHERE status IN ('Available','Reserved')\n",
        "         GROUP BY location) a\n",
        "        LEFT JOIN\n",
        "        (SELECT fl.location AS city, COUNT(c.claim_id) AS claims\n",
        "         FROM claims c JOIN food_listings fl ON fl.food_id=c.food_id\n",
        "         GROUP BY fl.location) b\n",
        "        USING (city)\n",
        "        ORDER BY total_claims DESC, available_listings DESC;\n",
        "    \"\"\",\n",
        "    # Monthly trend of expired vs completed\n",
        "    \"monthly_trend_expired_completed.csv\": \"\"\"\n",
        "        SELECT DATE_FORMAT(COALESCE(fl.expiry_date, c.timestamp), '%Y-%m') AS ym,\n",
        "               SUM(CASE WHEN fl.status='Expired' THEN 1 ELSE 0 END) AS expired_listings,\n",
        "               SUM(CASE WHEN c.status='Completed' THEN 1 ELSE 0 END) AS completed_claims\n",
        "        FROM food_listings fl\n",
        "        LEFT JOIN claims c ON c.food_id = fl.food_id\n",
        "        GROUP BY ym\n",
        "        ORDER BY ym;\n",
        "    \"\"\"\n",
        "}\n",
        "\n",
        "generated = []\n",
        "for fname, q in reports.items():\n",
        "    df = sql_df(q)\n",
        "    out = f\"/mnt/data/reports/{fname}\"\n",
        "    df.to_csv(out, index=False)\n",
        "    generated.append(out)\n",
        "\n",
        "generated\n"
      ],
      "metadata": {
        "colab": {
          "base_uri": "https://localhost:8080/"
        },
        "id": "Cm3FqArJL6Od",
        "outputId": "2333a319-839a-4b67-b367-9205e0dafac1"
      },
      "execution_count": 10,
      "outputs": [
        {
          "output_type": "execute_result",
          "data": {
            "text/plain": [
              "['/mnt/data/reports/wastage_by_food_type.csv',\n",
              " '/mnt/data/reports/wastage_by_city.csv',\n",
              " '/mnt/data/reports/soon_to_expire_7_days.csv',\n",
              " '/mnt/data/reports/city_supply_demand.csv',\n",
              " '/mnt/data/reports/monthly_trend_expired_completed.csv']"
            ]
          },
          "metadata": {},
          "execution_count": 10
        }
      ]
    },
    {
      "cell_type": "code",
      "execution_count": 11,
      "metadata": {
        "colab": {
          "base_uri": "https://localhost:8080/"
        },
        "id": "kQrSlKmlLa0g",
        "outputId": "e52b7f1e-3efc-490c-b612-92942c7a7888"
      },
      "outputs": [
        {
          "output_type": "stream",
          "name": "stdout",
          "text": [
            "Overwriting app.py\n"
          ]
        }
      ],
      "source": [
        "#writing streamlit application file app.py\n",
        "\n",
        "%%writefile app.py\n",
        "import streamlit as st\n",
        "import pandas as pd\n",
        "import mysql.connector as mysql\n",
        "import plotly.express as px\n",
        "from urllib.parse import quote\n",
        "from datetime import datetime, date\n",
        "\n",
        "DB_CONFIG = dict(\n",
        "    host=\"127.0.0.1\",\n",
        "    user=\"root\",\n",
        "    password=\"root\",\n",
        "    database=\"foodwaste_db\",\n",
        "    auth_plugin=\"mysql_native_password\"\n",
        ")\n",
        "\n",
        "def get_conn():\n",
        "    return mysql.connect(**DB_CONFIG)\n",
        "\n",
        "def sql_df(query, params=None):\n",
        "    con = get_conn()\n",
        "    df = pd.read_sql(query, con, params=params)\n",
        "    con.close()\n",
        "    return df\n",
        "\n",
        "def sql_exec(query, params=None):\n",
        "    con = get_conn()\n",
        "    cur = con.cursor()\n",
        "    cur.execute(query, params or ())\n",
        "    con.commit()\n",
        "    n = cur.rowcount\n",
        "    cur.close(); con.close()\n",
        "    return n\n",
        "\n",
        "st.set_page_config(page_title=\"Food Wastage Management\", layout=\"wide\")\n",
        "st.title(\"🍲 Local Food Wastage Management System\")\n",
        "\n",
        "# ---------------- Sidebar filters ----------------\n",
        "with st.sidebar:\n",
        "    st.header(\"🔎 Filters\")\n",
        "    cities = [\"All\"] + sql_df(\"SELECT DISTINCT location FROM food_listings ORDER BY location\")[\"location\"].dropna().tolist()\n",
        "    providers = [\"All\"] + sql_df(\"SELECT DISTINCT name FROM providers ORDER BY name\")[\"name\"].dropna().tolist()\n",
        "    foodtypes = [\"All\"] + sql_df(\"SELECT DISTINCT food_type FROM food_listings ORDER BY food_type\")[\"food_type\"].dropna().tolist()\n",
        "    mealtypes = [\"All\"] + sql_df(\"SELECT DISTINCT meal_type FROM food_listings ORDER BY meal_type\")[\"meal_type\"].dropna().tolist()\n",
        "\n",
        "    flt_city = st.selectbox(\"City\", cities)\n",
        "    flt_provider = st.selectbox(\"Provider\", providers)\n",
        "    flt_foodtype = st.selectbox(\"Food Type\", foodtypes)\n",
        "    flt_mealtype = st.selectbox(\"Meal Type\", mealtypes)\n",
        "\n",
        "tabs = st.tabs([\n",
        "    \"🏠 Browse & Contact\",\n",
        "    \"🛠️ CRUD\",\n",
        "    \"📑 Analytics (15 queries)\",\n",
        "    \"📈 Data Analysis & Insights\",\n",
        "])\n",
        "\n",
        "# ---------------- Tab 1: Browse & Contact ----------------\n",
        "with tabs[0]:\n",
        "    st.subheader(\"Available Donations\")\n",
        "    q = \"\"\"\n",
        "      SELECT fl.food_id, fl.food_name, fl.food_type, fl.meal_type, fl.quantity,\n",
        "             fl.expiry_date, fl.location, fl.status,\n",
        "             p.provider_id, p.name AS provider_name, p.contact AS provider_contact\n",
        "      FROM food_listings fl\n",
        "      JOIN providers p ON p.provider_id = fl.provider_id\n",
        "      WHERE 1=1\n",
        "    \"\"\"\n",
        "    params = []\n",
        "    if flt_city != \"All\":\n",
        "        q += \" AND fl.location=%s\"; params.append(flt_city)\n",
        "    if flt_provider != \"All\":\n",
        "        q += \" AND p.name=%s\"; params.append(flt_provider)\n",
        "    if flt_foodtype != \"All\":\n",
        "        q += \" AND fl.food_type=%s\"; params.append(flt_foodtype)\n",
        "    if flt_mealtype != \"All\":\n",
        "        q += \" AND fl.meal_type=%s\"; params.append(flt_mealtype)\n",
        "    q += \" ORDER BY fl.expiry_date ASC\"\n",
        "\n",
        "    df = sql_df(q, params or None)\n",
        "\n",
        "    def contact_link(v):\n",
        "        if not v or pd.isna(v): return \"\"\n",
        "        v = str(v).strip()\n",
        "        if \"@\" in v:\n",
        "            return f\"[Email](mailto:{v})\"\n",
        "        digits = \"\".join(ch for ch in v if ch.isdigit() or ch==\"+\")\n",
        "        if digits:\n",
        "            return f\"[Call](tel:{digits}) • [WhatsApp](https://wa.me/{digits.lstrip('+')})\"\n",
        "        return f\"[Contact](mailto:?subject={quote('Food Donation')}&body={quote(v)})\"\n",
        "\n",
        "    if not df.empty:\n",
        "        df[\"Contact Provider\"] = [contact_link(row[\"provider_contact\"]) for _, row in df.iterrows()]\n",
        "    st.dataframe(df, use_container_width=True)\n",
        "\n",
        "# ---------------- Tab 2: CRUD ----------------\n",
        "with tabs[1]:\n",
        "    st.subheader(\"Create / Update / Delete records\")\n",
        "\n",
        "    crud_tabs = st.tabs([\"Providers\", \"Receivers\", \"Food Listings\", \"Claims\"])\n",
        "\n",
        "    # Providers\n",
        "    with crud_tabs[0]:\n",
        "        st.markdown(\"### Providers\")\n",
        "        with st.form(\"prov_form\"):\n",
        "            pid = st.number_input(\"Provider ID\", min_value=1, step=1)\n",
        "            name = st.text_input(\"Name\")\n",
        "            ptype = st.text_input(\"Provider Type\")\n",
        "            contact = st.text_input(\"Contact (email/phone)\")\n",
        "            address = st.text_input(\"Address\")\n",
        "            city = st.text_input(\"City\")\n",
        "            submitted = st.form_submit_button(\"Save (Upsert)\")\n",
        "        if submitted:\n",
        "            sql_exec(\"\"\"\n",
        "                INSERT INTO providers(provider_id,name,provider_type,contact,address,city)\n",
        "                VALUES(%s,%s,%s,%s,%s,%s)\n",
        "                ON DUPLICATE KEY UPDATE\n",
        "                  name=VALUES(name), provider_type=VALUES(provider_type),\n",
        "                  contact=VALUES(contact), address=VALUES(address), city=VALUES(city)\n",
        "            \"\"\", (pid, name, ptype, contact, address, city))\n",
        "            st.success(\"✅ Saved (inserted/updated).\")\n",
        "\n",
        "        # Delete\n",
        "        pdata = sql_df(\"SELECT provider_id,name FROM providers ORDER BY provider_id\")\n",
        "        if not pdata.empty:\n",
        "            del_pid = st.selectbox(\"Delete provider\", pdata[\"provider_id\"])\n",
        "            if st.button(\"Delete Provider\"):\n",
        "                used = sql_df(\"SELECT COUNT(*) n FROM food_listings WHERE provider_id=%s\", (del_pid,))[\"n\"][0]\n",
        "                if used:\n",
        "                    st.error(\"Cannot delete: provider has listings.\")\n",
        "                else:\n",
        "                    sql_exec(\"DELETE FROM providers WHERE provider_id=%s\", (del_pid,))\n",
        "                    st.success(\"Deleted.\")\n",
        "\n",
        "    # Receivers\n",
        "    with crud_tabs[1]:\n",
        "        st.markdown(\"### Receivers\")\n",
        "        with st.form(\"recv_form\"):\n",
        "            rid = st.number_input(\"Receiver ID\", min_value=1, step=1)\n",
        "            name = st.text_input(\"Name\", key=\"rname\")\n",
        "            rtype = st.text_input(\"Type\")\n",
        "            contact = st.text_input(\"Contact\")\n",
        "            city = st.text_input(\"City\", key=\"rcity\")\n",
        "            submitted = st.form_submit_button(\"Save (Upsert)\")\n",
        "        if submitted:\n",
        "            sql_exec(\"\"\"\n",
        "                INSERT INTO receivers(receiver_id,name,type,contact,city)\n",
        "                VALUES(%s,%s,%s,%s,%s)\n",
        "                ON DUPLICATE KEY UPDATE\n",
        "                  name=VALUES(name), type=VALUES(type),\n",
        "                  contact=VALUES(contact), city=VALUES(city)\n",
        "            \"\"\", (rid, name, rtype, contact, city))\n",
        "            st.success(\"✅ Saved (inserted/updated).\")\n",
        "\n",
        "        rdata = sql_df(\"SELECT receiver_id,name FROM receivers ORDER BY receiver_id\")\n",
        "        if not rdata.empty:\n",
        "            del_rid = st.selectbox(\"Delete receiver\", rdata[\"receiver_id\"])\n",
        "            if st.button(\"Delete Receiver\"):\n",
        "                used = sql_df(\"SELECT COUNT(*) n FROM claims WHERE receiver_id=%s\", (del_rid,))[\"n\"][0]\n",
        "                if used:\n",
        "                    st.error(\"Cannot delete: receiver has claims.\")\n",
        "                else:\n",
        "                    sql_exec(\"DELETE FROM receivers WHERE receiver_id=%s\", (del_rid,))\n",
        "                    st.success(\"Deleted.\")\n",
        "\n",
        "    # Food Listings\n",
        "    with crud_tabs[2]:\n",
        "        st.markdown(\"### Food Listings\")\n",
        "        with st.form(\"food_form\"):\n",
        "            fid = st.number_input(\"Food ID\", min_value=1, step=1)\n",
        "            pid = st.number_input(\"Provider ID (existing)\", min_value=1, step=1, key=\"pfid\")\n",
        "            fname = st.text_input(\"Food Name\")\n",
        "            ftype = st.text_input(\"Food Type\")\n",
        "            mtype = st.text_input(\"Meal Type\")\n",
        "            qty = st.number_input(\"Quantity\", min_value=0, step=1)\n",
        "            exp = st.date_input(\"Expiry Date\")\n",
        "            loc = st.text_input(\"Location\")\n",
        "            status = st.selectbox(\"Status\", [\"Available\",\"Reserved\",\"Claimed\",\"Expired\"])\n",
        "            ptype = st.text_input(\"Provider Type (optional)\", key=\"ptype2\")\n",
        "            submitted = st.form_submit_button(\"Save (Upsert)\")\n",
        "        if submitted:\n",
        "            sql_exec(\"\"\"\n",
        "                INSERT INTO food_listings\n",
        "                (food_id,provider_id,food_name,food_type,meal_type,quantity,expiry_date,location,status,provider_type)\n",
        "                VALUES(%s,%s,%s,%s,%s,%s,%s,%s,%s,%s)\n",
        "                ON DUPLICATE KEY UPDATE\n",
        "                  provider_id=VALUES(provider_id), food_name=VALUES(food_name),\n",
        "                  food_type=VALUES(food_type), meal_type=VALUES(meal_type),\n",
        "                  quantity=VALUES(quantity), expiry_date=VALUES(expiry_date),\n",
        "                  location=VALUES(location), status=VALUES(status), provider_type=VALUES(provider_type)\n",
        "            \"\"\", (fid, pid, fname, ftype, mtype, int(qty), str(exp), loc, status, ptype))\n",
        "            st.success(\"✅ Saved (inserted/updated).\")\n",
        "\n",
        "        fdata = sql_df(\"SELECT food_id,food_name FROM food_listings ORDER BY food_id\")\n",
        "        if not fdata.empty:\n",
        "            del_fid = st.selectbox(\"Delete listing\", fdata[\"food_id\"])\n",
        "            if st.button(\"Delete Listing\"):\n",
        "                used = sql_df(\"SELECT COUNT(*) n FROM claims WHERE food_id=%s\", (del_fid,))[\"n\"][0]\n",
        "                if used:\n",
        "                    st.error(\"Cannot delete: listing has claims.\")\n",
        "                else:\n",
        "                    sql_exec(\"DELETE FROM food_listings WHERE food_id=%s\", (del_fid,))\n",
        "                    st.success(\"Deleted.\")\n",
        "\n",
        "    # Claims\n",
        "    with crud_tabs[3]:\n",
        "        st.markdown(\"### Claims\")\n",
        "        with st.form(\"claim_form\"):\n",
        "            cid = st.number_input(\"Claim ID\", min_value=1, step=1)\n",
        "            fid = st.number_input(\"Food ID (existing)\", min_value=1, step=1)\n",
        "            rid = st.number_input(\"Receiver ID (existing)\", min_value=1, step=1, key=\"rid2\")\n",
        "            status = st.selectbox(\"Status\", [\"Pending\",\"Completed\",\"Cancelled\"])\n",
        "            d = st.date_input(\"Date\", value=date.today())\n",
        "            t = st.time_input(\"Time\", value=datetime.now().time())\n",
        "            ts = datetime.combine(d, t)\n",
        "            submitted = st.form_submit_button(\"Save (Upsert)\")\n",
        "        if submitted:\n",
        "            sql_exec(\"\"\"\n",
        "                INSERT INTO claims(claim_id,food_id,receiver_id,status,timestamp)\n",
        "                VALUES(%s,%s,%s,%s,%s)\n",
        "                ON DUPLICATE KEY UPDATE\n",
        "                  food_id=VALUES(food_id), receiver_id=VALUES(receiver_id),\n",
        "                  status=VALUES(status), timestamp=VALUES(timestamp)\n",
        "            \"\"\", (cid, fid, rid, status, ts))\n",
        "            st.success(\"✅ Saved (inserted/updated).\")\n",
        "\n",
        "        cdata = sql_df(\"SELECT claim_id FROM claims ORDER BY claim_id\")\n",
        "        if not cdata.empty:\n",
        "            del_cid = st.selectbox(\"Delete claim\", cdata[\"claim_id\"])\n",
        "            if st.button(\"Delete Claim\"):\n",
        "                sql_exec(\"DELETE FROM claims WHERE claim_id=%s\", (del_cid,))\n",
        "                st.success(\"Deleted.\")\n",
        "\n",
        "# ---------------- Tab 3: Analytics (15 queries) ----------------\n",
        "with tabs[2]:\n",
        "    st.subheader(\"All 15 SQL Queries with outputs\")\n",
        "\n",
        "    queries = {\n",
        "        \"1) Providers & Receivers by City\": \"\"\"\n",
        "            SELECT city,\n",
        "                   COUNT(DISTINCT p.provider_id) AS providers,\n",
        "                   (SELECT COUNT(DISTINCT r.receiver_id) FROM receivers r WHERE r.city=p.city) AS receivers\n",
        "            FROM providers p GROUP BY city ORDER BY city;\n",
        "        \"\"\",\n",
        "        \"2) Top Provider Type by Quantity\": \"\"\"\n",
        "            SELECT provider_type, SUM(quantity) AS total_quantity\n",
        "            FROM food_listings GROUP BY provider_type ORDER BY total_quantity DESC;\n",
        "        \"\"\",\n",
        "        \"3) Receivers with Most Completed Claims\": \"\"\"\n",
        "            SELECT r.receiver_id, r.name, COUNT(*) AS completed_claims\n",
        "            FROM claims c JOIN receivers r ON r.receiver_id=c.receiver_id\n",
        "            WHERE c.status='Completed'\n",
        "            GROUP BY r.receiver_id, r.name ORDER BY completed_claims DESC;\n",
        "        \"\"\",\n",
        "        \"4) Total Quantity Available\": \"\"\"\n",
        "            SELECT SUM(quantity) AS total_available_quantity\n",
        "            FROM food_listings WHERE status IN ('Available','Reserved');\n",
        "        \"\"\",\n",
        "        \"5) City with Highest Listings\": \"\"\"\n",
        "            SELECT location AS city, COUNT(*) AS listings\n",
        "            FROM food_listings GROUP BY location ORDER BY listings DESC;\n",
        "        \"\"\",\n",
        "        \"6) Most Common Food Types\": \"\"\"\n",
        "            SELECT food_type, COUNT(*) AS n\n",
        "            FROM food_listings GROUP BY food_type ORDER BY n DESC;\n",
        "        \"\"\",\n",
        "        \"7) Claims per Food Item\": \"\"\"\n",
        "            SELECT fl.food_id, fl.food_name, COUNT(c.claim_id) AS claims\n",
        "            FROM food_listings fl LEFT JOIN claims c ON c.food_id=fl.food_id\n",
        "            GROUP BY fl.food_id, fl.food_name ORDER BY claims DESC, fl.food_id;\n",
        "        \"\"\",\n",
        "        \"8) Top Provider by Completed Claims\": \"\"\"\n",
        "            SELECT p.provider_id, p.name, COUNT(*) AS completed_claims\n",
        "            FROM claims c JOIN food_listings fl ON fl.food_id=c.food_id\n",
        "            JOIN providers p ON p.provider_id=fl.provider_id\n",
        "            WHERE c.status='Completed'\n",
        "            GROUP BY p.provider_id, p.name ORDER BY completed_claims DESC;\n",
        "        \"\"\",\n",
        "        \"9) Claim Status Percentages\": \"\"\"\n",
        "            SELECT status, COUNT(*) AS cnt,\n",
        "                   ROUND(100*COUNT(*)/(SELECT COUNT(*) FROM claims),2) AS pct\n",
        "            FROM claims GROUP BY status;\n",
        "        \"\"\",\n",
        "        \"10) Avg Quantity Claimed per Receiver\": \"\"\"\n",
        "            SELECT r.receiver_id, r.name, AVG(fl.quantity) AS avg_claim_qty\n",
        "            FROM claims c JOIN food_listings fl ON fl.food_id=c.food_id\n",
        "            JOIN receivers r ON r.receiver_id=c.receiver_id\n",
        "            WHERE c.status='Completed'\n",
        "            GROUP BY r.receiver_id, r.name ORDER BY avg_claim_qty DESC;\n",
        "        \"\"\",\n",
        "        \"11) Most Claimed Meal Type\": \"\"\"\n",
        "            SELECT fl.meal_type, COUNT(*) AS completed_claims\n",
        "            FROM claims c JOIN food_listings fl ON fl.food_id=c.food_id\n",
        "            WHERE c.status='Completed'\n",
        "            GROUP BY fl.meal_type ORDER BY completed_claims DESC;\n",
        "        \"\"\",\n",
        "        \"12) Total Quantity by Provider\": \"\"\"\n",
        "            SELECT p.provider_id, p.name, SUM(fl.quantity) AS total_qty\n",
        "            FROM food_listings fl JOIN providers p ON p.provider_id=fl.provider_id\n",
        "            GROUP BY p.provider_id, p.name ORDER BY total_qty DESC;\n",
        "        \"\"\",\n",
        "        \"13) Soon-to-Expire Items (3 days)\": \"\"\"\n",
        "            SELECT food_id, food_name, quantity, expiry_date, location\n",
        "            FROM food_listings\n",
        "            WHERE expiry_date BETWEEN CURDATE() AND DATE_ADD(CURDATE(), INTERVAL 3 DAY)\n",
        "            ORDER BY expiry_date ASC;\n",
        "        \"\"\",\n",
        "        \"14) Unclaimed by City\": \"\"\"\n",
        "            SELECT location AS city, COUNT(*) AS unclaimed\n",
        "            FROM food_listings WHERE status='Available'\n",
        "            GROUP BY location ORDER BY unclaimed DESC;\n",
        "        \"\"\",\n",
        "        \"15) Provider Efficiency (%)\": \"\"\"\n",
        "            SELECT p.provider_id, p.name,\n",
        "                   SUM(CASE WHEN c.status='Completed' THEN 1 ELSE 0 END) AS completed,\n",
        "                   SUM(CASE WHEN c.status IN ('Completed','Cancelled','Pending') THEN 1 ELSE 0 END) AS attempts,\n",
        "                   ROUND(100*SUM(CASE WHEN c.status='Completed' THEN 1 ELSE 0 END)/\n",
        "                         NULLIF(SUM(CASE WHEN c.status IN ('Completed','Cancelled','Pending') THEN 1 ELSE 0 END),0),2) AS completion_rate_pct\n",
        "            FROM providers p\n",
        "            LEFT JOIN food_listings fl ON fl.provider_id=p.provider_id\n",
        "            LEFT JOIN claims c ON c.food_id=fl.food_id\n",
        "            GROUP BY p.provider_id, p.name\n",
        "            ORDER BY completion_rate_pct DESC;\n",
        "        \"\"\",\n",
        "    }\n",
        "\n",
        "    for title, q in queries.items():\n",
        "        with st.expander(title, expanded=False):\n",
        "            dfx = sql_df(q)\n",
        "            st.dataframe(dfx, use_container_width=True)\n",
        "            st.download_button(\"⬇️ CSV\", dfx.to_csv(index=False).encode(\"utf-8\"),\n",
        "                               file_name=f\"{title.replace(' ','_').lower()}.csv\", mime=\"text/csv\")\n",
        "\n",
        "# ---------------- Tab 4: Data Analysis & Insights ----------------\n",
        "with tabs[3]:\n",
        "    st.subheader(\"Trends & Insights for Effective Distribution\")\n",
        "\n",
        "    # Trend 1: Top providers\n",
        "    top_prov = sql_df(\"\"\"\n",
        "        SELECT p.name, COUNT(fl.food_id) AS listings, SUM(fl.quantity) AS total_qty\n",
        "        FROM providers p LEFT JOIN food_listings fl ON fl.provider_id=p.provider_id\n",
        "        GROUP BY p.name ORDER BY listings DESC, total_qty DESC LIMIT 10;\n",
        "    \"\"\")\n",
        "    if not top_prov.empty:\n",
        "        st.markdown(\"**Top Providers by Listings**\")\n",
        "        st.plotly_chart(px.bar(top_prov, x=\"name\", y=\"listings\", title=\"Top Providers\"), use_container_width=True)\n",
        "        st.dataframe(top_prov, use_container_width=True)\n",
        "\n",
        "    # Trend 2: Highest demand locations\n",
        "    demand = sql_df(\"\"\"\n",
        "        SELECT fl.location, COUNT(c.claim_id) AS claims\n",
        "        FROM claims c JOIN food_listings fl ON fl.food_id=c.food_id\n",
        "        GROUP BY fl.location ORDER BY claims DESC;\n",
        "    \"\"\")\n",
        "    if not demand.empty:\n",
        "        st.markdown(\"**Highest Demand Locations**\")\n",
        "        st.plotly_chart(px.bar(demand, x=\"location\", y=\"claims\", title=\"Claims by Location\"), use_container_width=True)\n",
        "        st.dataframe(demand, use_container_width=True)\n",
        "\n",
        "    # Trend 3: Wastage (expired vs available) over time\n",
        "    wastage = sql_df(\"\"\"\n",
        "        SELECT DATE(fl.expiry_date) AS day,\n",
        "               SUM(CASE WHEN fl.status='Expired' THEN 1 ELSE 0 END) AS expired_items,\n",
        "               SUM(CASE WHEN fl.status='Available' THEN 1 ELSE 0 END) AS still_unclaimed\n",
        "        FROM food_listings fl\n",
        "        GROUP BY DATE(fl.expiry_date) ORDER BY day;\n",
        "    \"\"\")\n",
        "    if not wastage.empty:\n",
        "        st.markdown(\"**Wastage Trends (Expired vs Unclaimed)**\")\n",
        "        st.plotly_chart(px.line(wastage, x=\"day\", y=[\"expired_items\",\"still_unclaimed\"], title=\"Daily Wastage Trend\"),\n",
        "                        use_container_width=True)\n",
        "        st.dataframe(wastage, use_container_width=True)\n",
        "\n",
        "    st.info(\"Download additional auto-generated reports from `/mnt/data/reports/` (created in the notebook).\")\n"
      ]
    },
    {
      "cell_type": "code",
      "execution_count": null,
      "metadata": {
        "colab": {
          "base_uri": "https://localhost:8080/"
        },
        "id": "qj4BbbTS-AGO",
        "outputId": "d05b7ff3-7c2e-4229-d509-8e83c02c44b1"
      },
      "outputs": [
        {
          "output_type": "stream",
          "name": "stdout",
          "text": [
            " Streamlit app available at: NgrokTunnel: \"https://e86abd4a7aa0.ngrok-free.app\" -> \"http://localhost:8501\"\n",
            "\n",
            "Collecting usage statistics. To deactivate, set browser.gatherUsageStats to false.\n",
            "\u001b[0m\n",
            "\u001b[0m\n",
            "\u001b[34m\u001b[1m  You can now view your Streamlit app in your browser.\u001b[0m\n",
            "\u001b[0m\n",
            "\u001b[34m  Local URL: \u001b[0m\u001b[1mhttp://localhost:8501\u001b[0m\n",
            "\u001b[34m  Network URL: \u001b[0m\u001b[1mhttp://172.28.0.12:8501\u001b[0m\n",
            "\u001b[34m  External URL: \u001b[0m\u001b[1mhttp://34.58.234.20:8501\u001b[0m\n",
            "\u001b[0m\n"
          ]
        }
      ],
      "source": [
        "import os\n",
        "from pyngrok import ngrok\n",
        "\n",
        "# Kill any running tunnels\n",
        "ngrok.kill()\n",
        "\n",
        "# placeyour own ngrok auth token\n",
        "os.environ[\"NGROK_AUTH_TOKEN\"] = \"myauthtoken\"\n",
        "ngrok.set_auth_token(os.environ[\"NGROK_AUTH_TOKEN\"])\n",
        "\n",
        "# Create public URL\n",
        "public_url = ngrok.connect(8501)\n",
        "print(\" Streamlit app available at:\", public_url)\n",
        "\n",
        "# Launch Streamlit\n",
        "!streamlit run app.py --server.port 8501 --server.headless true"
      ]
    },
    {
      "cell_type": "markdown",
      "source": [
        "## The end\n"
      ],
      "metadata": {
        "id": "CwvkE9K6fmXR"
      }
    }
  ],
  "metadata": {
    "colab": {
      "provenance": [],
      "authorship_tag": "ABX9TyPJ6+mnb8arLjSD8pMvuM7f",
      "include_colab_link": true
    },
    "kernelspec": {
      "display_name": "Python 3",
      "name": "python3"
    },
    "language_info": {
      "name": "python"
    }
  },
  "nbformat": 4,
  "nbformat_minor": 0
}